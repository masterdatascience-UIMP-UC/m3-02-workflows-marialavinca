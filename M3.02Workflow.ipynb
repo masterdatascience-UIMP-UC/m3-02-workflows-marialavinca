{
 "cells": [
  {
   "cell_type": "markdown",
   "metadata": {},
   "source": [
    "## Autores: Esther García Fernández, Jose González Abad y María Lavín Cabanas\n",
    "\n",
    "# Workflow\n",
    "\n",
    "En esta práctica vamos a aplicar lo aprendido en esta asignatura para crear un flujo que automatice la descarga, análisis y publicación de los datos utilizando distintas herramientas como Zenodo, github y librerías de python para el análisis de datos\n",
    "\n",
    "### Librerías necesarias para la práctica\n",
    "\n",
    "```python\n",
    "import xml.etree.ElementTree as ET\n",
    "import requests\n",
    "import json\n",
    "import zipfile\n",
    "```\n",
    "\n",
    "### Elementos necesarios\n",
    "* Al menos un fichero CSV\n",
    "* Un script de análisis de datos en CSV (Publicado en Github)\n",
    "\n"
   ]
  },
  {
   "cell_type": "markdown",
   "metadata": {},
   "source": [
    "# Publicación de datos iniciales\n",
    "\n",
    "Utilizando Zenodo, de forma manual, publicar los datos que se vayan a utilizar.\n",
    "\n",
    "<div class=\"alert alert-warning\" role=\"alert\" style=\"margin: 10px\">\n",
    "<p>Utilizar Communities para localizar más facilmente los datos</p>\n",
    "</div>\n"
   ]
  },
  {
   "cell_type": "code",
   "execution_count": 4,
   "metadata": {},
   "outputs": [],
   "source": [
    "#10.5281/zenodo.2541786"
   ]
  },
  {
   "cell_type": "markdown",
   "metadata": {},
   "source": [
    "# Publicación de script de Análisis\n",
    "\n",
    "En Github + Zenodo"
   ]
  },
  {
   "cell_type": "code",
   "execution_count": 2,
   "metadata": {},
   "outputs": [],
   "source": [
    "#https://zenodo.org/record/2541830#.XD98hS2ZPxU"
   ]
  },
  {
   "cell_type": "markdown",
   "metadata": {},
   "source": [
    "# Descarga de datos\n",
    "\n",
    "Desde Zenodo, utilizando los métodos conocidos (OAI-PMH, API)\n",
    "\n",
    "Pista: url+'?verb=ListRecords&set=nombre_set"
   ]
  },
  {
   "cell_type": "code",
   "execution_count": 1,
   "metadata": {},
   "outputs": [
    {
     "name": "stdout",
     "output_type": "stream",
     "text": [
      "{http://www.openarchives.org/OAI/2.0/}OAI-PMH\n",
      "\n",
      "  \n",
      "{http://www.openarchives.org/OAI/2.0/}responseDate\n",
      "2019-01-16T18:45:43Z\n",
      "{http://www.openarchives.org/OAI/2.0/}request\n",
      "https://zenodo.org/oai2d\n",
      "{http://www.openarchives.org/OAI/2.0/}ListRecords\n",
      "\n",
      "    \n",
      "{http://www.openarchives.org/OAI/2.0/}record\n",
      "\n",
      "      \n",
      "{http://www.openarchives.org/OAI/2.0/}header\n",
      "\n",
      "        \n",
      "{http://www.openarchives.org/OAI/2.0/}identifier\n",
      "oai:zenodo.org:2541786\n",
      "{http://www.openarchives.org/OAI/2.0/}datestamp\n",
      "2019-01-16T15:40:53Z\n",
      "{http://www.openarchives.org/OAI/2.0/}setSpec\n",
      "user-pruebaciclo\n",
      "{http://www.openarchives.org/OAI/2.0/}metadata\n",
      "\n",
      "        \n",
      "{http://www.openarchives.org/OAI/2.0/oai_dc/}dc\n",
      "\n",
      "          \n",
      "{http://purl.org/dc/elements/1.1/}creator\n",
      "Jose\n",
      "{http://purl.org/dc/elements/1.1/}date\n",
      "2019-01-16\n",
      "{http://purl.org/dc/elements/1.1/}description\n",
      "Datos de la población en diferentes provincias\n",
      "{http://purl.org/dc/elements/1.1/}identifier\n",
      "https://zenodo.org/record/2541786\n",
      "{http://purl.org/dc/elements/1.1/}identifier\n",
      "10.5281/zenodo.2541786\n",
      "{http://purl.org/dc/elements/1.1/}identifier\n",
      "oai:zenodo.org:2541786\n",
      "{http://purl.org/dc/elements/1.1/}relation\n",
      "doi:10.5281/zenodo.2541785\n",
      "{http://purl.org/dc/elements/1.1/}relation\n",
      "url:https://zenodo.org/communities/pruebaciclo\n",
      "{http://purl.org/dc/elements/1.1/}rights\n",
      "info:eu-repo/semantics/openAccess\n",
      "{http://purl.org/dc/elements/1.1/}rights\n",
      "http://creativecommons.org/licenses/by/4.0/legalcode\n",
      "{http://purl.org/dc/elements/1.1/}title\n",
      "datos_poblacion\n",
      "{http://purl.org/dc/elements/1.1/}type\n",
      "info:eu-repo/semantics/other\n",
      "{http://purl.org/dc/elements/1.1/}type\n",
      "dataset\n",
      "{http://www.openarchives.org/OAI/2.0/}record\n",
      "\n",
      "      \n",
      "{http://www.openarchives.org/OAI/2.0/}header\n",
      "\n",
      "        \n",
      "{http://www.openarchives.org/OAI/2.0/}identifier\n",
      "oai:zenodo.org:2541830\n",
      "{http://www.openarchives.org/OAI/2.0/}datestamp\n",
      "2019-01-16T17:26:11Z\n",
      "{http://www.openarchives.org/OAI/2.0/}setSpec\n",
      "user-pruebaciclo\n",
      "{http://www.openarchives.org/OAI/2.0/}metadata\n",
      "\n",
      "        \n",
      "{http://www.openarchives.org/OAI/2.0/oai_dc/}dc\n",
      "\n",
      "          \n",
      "{http://purl.org/dc/elements/1.1/}creator\n",
      "marialavinca\n",
      "{http://purl.org/dc/elements/1.1/}date\n",
      "2019-01-16\n",
      "{http://purl.org/dc/elements/1.1/}description\n",
      "No description provided.\n",
      "{http://purl.org/dc/elements/1.1/}identifier\n",
      "https://zenodo.org/record/2541830\n",
      "{http://purl.org/dc/elements/1.1/}identifier\n",
      "10.5281/zenodo.2541830\n",
      "{http://purl.org/dc/elements/1.1/}identifier\n",
      "oai:zenodo.org:2541830\n",
      "{http://purl.org/dc/elements/1.1/}relation\n",
      "url:https://github.com/marialavinca/cicloDeVida/tree/1.0\n",
      "{http://purl.org/dc/elements/1.1/}relation\n",
      "doi:10.5281/zenodo.2541829\n",
      "{http://purl.org/dc/elements/1.1/}relation\n",
      "url:https://zenodo.org/communities/pruebaciclo\n",
      "{http://purl.org/dc/elements/1.1/}rights\n",
      "info:eu-repo/semantics/openAccess\n",
      "{http://purl.org/dc/elements/1.1/}title\n",
      "marialavinca/cicloDeVida 1.0\n",
      "{http://purl.org/dc/elements/1.1/}type\n",
      "info:eu-repo/semantics/other\n",
      "{http://purl.org/dc/elements/1.1/}type\n",
      "software\n"
     ]
    }
   ],
   "source": [
    "import xml.etree.ElementTree as ET\n",
    "import requests\n",
    "import json\n",
    "\n",
    "oai = requests.get('https://zenodo.org/oai2d?verb=ListRecords&set=user-pruebaciclo&metadataPrefix=oai_dc')\n",
    "xmlTree = ET.fromstring(oai.text)\n",
    "iterator = xmlTree.iter()\n",
    "for elem in iterator:\n",
    "    print(elem.tag)\n",
    "    print(elem.text)"
   ]
  },
  {
   "cell_type": "code",
   "execution_count": 6,
   "metadata": {},
   "outputs": [
    {
     "name": "stdout",
     "output_type": "stream",
     "text": [
      "Identifier: https://zenodo.org/record/2541786\n",
      "Identifier: 10.5281/zenodo.2541786\n",
      "Identifier: oai:zenodo.org:2541786\n",
      "Identifier: https://zenodo.org/record/2541830\n",
      "Identifier: 10.5281/zenodo.2541830\n",
      "Identifier: oai:zenodo.org:2541830\n"
     ]
    }
   ],
   "source": [
    "#Se listan los identificados de los dos recursos (dataset, los 3 primeros, y el software, los 3 últimos)\n",
    "count = 0\n",
    "for identifier in xmlTree.findall('.//{http://purl.org/dc/elements/1.1/}identifier'):\n",
    "    print(\"Identifier: \"+xmlTree.findall('.//{http://purl.org/dc/elements/1.1/}identifier')[count].text)\n",
    "    count += 1   "
   ]
  },
  {
   "cell_type": "code",
   "execution_count": 7,
   "metadata": {},
   "outputs": [],
   "source": [
    "import re\n",
    "\n",
    "id = re.search('(?:/record/)(.*)', xmlTree.findall('.//{http://purl.org/dc/elements/1.1/}identifier')[0].text).group(1)"
   ]
  },
  {
   "cell_type": "code",
   "execution_count": 8,
   "metadata": {},
   "outputs": [
    {
     "data": {
      "text/plain": [
       "'2541786'"
      ]
     },
     "execution_count": 8,
     "metadata": {},
     "output_type": "execute_result"
    }
   ],
   "source": [
    "id"
   ]
  },
  {
   "cell_type": "code",
   "execution_count": 9,
   "metadata": {},
   "outputs": [
    {
     "name": "stdout",
     "output_type": "stream",
     "text": [
      "[{'bucket': 'd28432ab-52cc-4378-b835-7ae279022455', 'checksum': 'md5:3a6716c7ed46e837f025537d60f2eb3c', 'key': 'Centroides_NucleosPoblacion.csv', 'links': {'self': 'https://zenodo.org/api/files/d28432ab-52cc-4378-b835-7ae279022455/Centroides_NucleosPoblacion.csv'}, 'size': 84332, 'type': 'csv'}]\n"
     ]
    }
   ],
   "source": [
    "headers = {'accept': 'application/json'}\n",
    "r = requests.get('https://zenodo.org/api/records/'+id,headers) \n",
    "record = json.loads(r.text)\n",
    "print(record['files'])"
   ]
  },
  {
   "cell_type": "code",
   "execution_count": 10,
   "metadata": {},
   "outputs": [
    {
     "data": {
      "text/plain": [
       "'https://zenodo.org/api/files/d28432ab-52cc-4378-b835-7ae279022455/Centroides_NucleosPoblacion.csv'"
      ]
     },
     "execution_count": 10,
     "metadata": {},
     "output_type": "execute_result"
    }
   ],
   "source": [
    "record['files'][0]['links']['self']"
   ]
  },
  {
   "cell_type": "code",
   "execution_count": 11,
   "metadata": {},
   "outputs": [],
   "source": [
    "import urllib\n",
    "\n",
    "url = record['files'][0]['links']['self']\n",
    "dataset = open(\"dataset.csv\", 'wb')\n",
    "dataset.write(urllib.request.urlopen(url).read())\n",
    "dataset.close()"
   ]
  },
  {
   "cell_type": "markdown",
   "metadata": {},
   "source": [
    "# Descarga de código\n",
    "\n",
    "Desde Zenodo, utilizando los métodos conocidos (OAI-PMH, API)\n",
    "\n",
    "<div class=\"alert alert-warning\" role=\"alert\" style=\"margin: 10px\">\n",
    "<p>Zenodo guarda un zip con el código</p>\n",
    "</div>"
   ]
  },
  {
   "cell_type": "code",
   "execution_count": 12,
   "metadata": {},
   "outputs": [],
   "source": [
    "id1 = re.search('(?:/record/)(.*)', xmlTree.findall('.//{http://purl.org/dc/elements/1.1/}identifier')[3].text).group(1)"
   ]
  },
  {
   "cell_type": "code",
   "execution_count": 13,
   "metadata": {},
   "outputs": [
    {
     "data": {
      "text/plain": [
       "'2541830'"
      ]
     },
     "execution_count": 13,
     "metadata": {},
     "output_type": "execute_result"
    }
   ],
   "source": [
    "id1"
   ]
  },
  {
   "cell_type": "code",
   "execution_count": 14,
   "metadata": {},
   "outputs": [
    {
     "name": "stdout",
     "output_type": "stream",
     "text": [
      "[{'bucket': '5fbaed55-ad24-45ea-ac8a-1f560b202c84', 'checksum': 'md5:be231a4d685084fd3e04ec16dfb31ccb', 'key': 'marialavinca/cicloDeVida-1.0.zip', 'links': {'self': 'https://zenodo.org/api/files/5fbaed55-ad24-45ea-ac8a-1f560b202c84/marialavinca/cicloDeVida-1.0.zip'}, 'size': 1001, 'type': 'zip'}]\n"
     ]
    }
   ],
   "source": [
    "r1 = requests.get('https://zenodo.org/api/records/'+id1, headers) \n",
    "record1 = json.loads(r1.text)\n",
    "print(record1['files'])"
   ]
  },
  {
   "cell_type": "code",
   "execution_count": 15,
   "metadata": {},
   "outputs": [
    {
     "data": {
      "text/plain": [
       "'2541830'"
      ]
     },
     "execution_count": 15,
     "metadata": {},
     "output_type": "execute_result"
    }
   ],
   "source": [
    "id1"
   ]
  },
  {
   "cell_type": "code",
   "execution_count": 16,
   "metadata": {},
   "outputs": [
    {
     "data": {
      "text/plain": [
       "'https://zenodo.org/api/files/5fbaed55-ad24-45ea-ac8a-1f560b202c84/marialavinca/cicloDeVida-1.0.zip'"
      ]
     },
     "execution_count": 16,
     "metadata": {},
     "output_type": "execute_result"
    }
   ],
   "source": [
    "record1['files'][0]['links']['self']"
   ]
  },
  {
   "cell_type": "code",
   "execution_count": 17,
   "metadata": {},
   "outputs": [],
   "source": [
    "url1 = record1['files'][0]['links']['self']\n",
    "software = open(\"software.zip\", 'wb')\n",
    "software.write(urllib.request.urlopen(url1).read())\n",
    "software.close()"
   ]
  },
  {
   "cell_type": "code",
   "execution_count": 18,
   "metadata": {},
   "outputs": [],
   "source": [
    "import zipfile\n",
    "\n",
    "zip_ref = zipfile.ZipFile(\"software.zip\")\n",
    "zip_ref.extractall('.')\n",
    "zip_ref.close()"
   ]
  },
  {
   "cell_type": "markdown",
   "metadata": {},
   "source": [
    "# Análisis de los datos\n",
    "\n",
    "Producir fichero: Otro CSV, imagen, etc"
   ]
  },
  {
   "cell_type": "code",
   "execution_count": 19,
   "metadata": {},
   "outputs": [],
   "source": [
    "%mv marialavinca-cicloDeVida-e973d26/analisis_poblacion.py ."
   ]
  },
  {
   "cell_type": "code",
   "execution_count": 20,
   "metadata": {},
   "outputs": [],
   "source": [
    "%mv dataset.csv Centroides_NucleosPoblacion.csv"
   ]
  },
  {
   "cell_type": "code",
   "execution_count": 21,
   "metadata": {},
   "outputs": [
    {
     "name": "stdout",
     "output_type": "stream",
     "text": [
      "analisis_poblacion.py            \u001b[0m\u001b[01;34mmarialavinca-cicloDeVida-e973d26\u001b[0m/\r\n",
      "Centroides_NucleosPoblacion.csv  software.zip\r\n",
      "M3.02Workflow.ipynb\r\n"
     ]
    }
   ],
   "source": [
    "%ls"
   ]
  },
  {
   "cell_type": "code",
   "execution_count": 22,
   "metadata": {},
   "outputs": [
    {
     "name": "stdout",
     "output_type": "stream",
     "text": [
      "El número de Municipios que tienen más de 100000 habitantes es 74 .\n",
      "\n"
     ]
    },
    {
     "data": {
      "text/plain": [
       "<Figure size 640x480 with 0 Axes>"
      ]
     },
     "metadata": {},
     "output_type": "display_data"
    },
    {
     "data": {
      "text/plain": [
       "<Figure size 2000x1000 with 1 Axes>"
      ]
     },
     "metadata": {},
     "output_type": "display_data"
    }
   ],
   "source": [
    "%run -i analisis_poblacion.py dataset.csv"
   ]
  },
  {
   "cell_type": "markdown",
   "metadata": {},
   "source": [
    "# Publicación de los Datos\n",
    "\n",
    "Utilizando la API de Zenodo"
   ]
  },
  {
   "cell_type": "code",
   "execution_count": 4,
   "metadata": {},
   "outputs": [
    {
     "data": {
      "text/plain": [
       "200"
      ]
     },
     "execution_count": 4,
     "metadata": {},
     "output_type": "execute_result"
    }
   ],
   "source": [
    "r = requests.get('https://zenodo.org/api/deposit/depositions', \n",
    "                 params={'access_token': '20a32sBu6WGarmZAwzR9QdtpIBggm14QbwjOE56xt1fuwvG2Jx9bIrJa5Gtv'})\n",
    "\n",
    "r.status_code"
   ]
  },
  {
   "cell_type": "code",
   "execution_count": 5,
   "metadata": {},
   "outputs": [
    {
     "data": {
      "text/plain": [
       "[{'conceptdoi': '10.5281/zenodo.2541829',\n",
       "  'conceptrecid': '2541829',\n",
       "  'created': '2019-01-16T15:54:58.737262',\n",
       "  'doi': '10.5281/zenodo.2541830',\n",
       "  'doi_url': 'https://doi.org/10.5281/zenodo.2541830',\n",
       "  'files': [{'checksum': 'be231a4d685084fd3e04ec16dfb31ccb',\n",
       "    'filename': 'marialavinca/cicloDeVida-1.0.zip',\n",
       "    'filesize': 1001,\n",
       "    'id': '0a98c0b0-364f-44a1-82a3-b4ffff467972',\n",
       "    'links': {'download': 'https://zenodo.org/api/files/5fbaed55-ad24-45ea-ac8a-1f560b202c84/marialavinca/cicloDeVida-1.0.zip',\n",
       "     'self': 'https://zenodo.org/api/deposit/depositions/1435644/files/0a98c0b0-364f-44a1-82a3-b4ffff467972'}}],\n",
       "  'id': 2541830,\n",
       "  'links': {'badge': 'https://zenodo.org/badge/doi/10.5281/zenodo.2541830.svg',\n",
       "   'bucket': 'https://zenodo.org/api/files/65c00975-5211-4b59-90d4-d8624c7ced43',\n",
       "   'conceptbadge': 'https://zenodo.org/badge/doi/10.5281/zenodo.2541829.svg',\n",
       "   'conceptdoi': 'https://doi.org/10.5281/zenodo.2541829',\n",
       "   'discard': 'https://zenodo.org/api/deposit/depositions/2541830/actions/discard',\n",
       "   'doi': 'https://doi.org/10.5281/zenodo.2541830',\n",
       "   'edit': 'https://zenodo.org/api/deposit/depositions/2541830/actions/edit',\n",
       "   'files': 'https://zenodo.org/api/deposit/depositions/2541830/files',\n",
       "   'html': 'https://zenodo.org/deposit/2541830',\n",
       "   'latest': 'https://zenodo.org/api/records/2541830',\n",
       "   'latest_html': 'https://zenodo.org/record/2541830',\n",
       "   'publish': 'https://zenodo.org/api/deposit/depositions/2541830/actions/publish',\n",
       "   'record': 'https://zenodo.org/api/records/2541830',\n",
       "   'record_html': 'https://zenodo.org/record/2541830',\n",
       "   'self': 'https://zenodo.org/api/deposit/depositions/2541830'},\n",
       "  'metadata': {'access_right': 'open',\n",
       "   'communities': [{'identifier': 'pruebaciclo'}],\n",
       "   'creators': [{'name': 'marialavinca'}],\n",
       "   'description': '<p>No description provided.</p>',\n",
       "   'doi': '10.5281/zenodo.2541830',\n",
       "   'license': 'other-open',\n",
       "   'prereserve_doi': {'doi': '10.5281/zenodo.2541830', 'recid': 2541830},\n",
       "   'publication_date': '2019-01-16',\n",
       "   'related_identifiers': [{'identifier': 'https://github.com/marialavinca/cicloDeVida/tree/1.0',\n",
       "     'relation': 'isSupplementTo',\n",
       "     'scheme': 'url'}],\n",
       "   'title': 'marialavinca/cicloDeVida 1.0',\n",
       "   'upload_type': 'software',\n",
       "   'version': '1.0'},\n",
       "  'modified': '2019-01-16T17:26:11.398980',\n",
       "  'owner': 58442,\n",
       "  'record_id': 2541830,\n",
       "  'state': 'done',\n",
       "  'submitted': True,\n",
       "  'title': 'marialavinca/cicloDeVida 1.0'},\n",
       " {'conceptdoi': '10.5281/zenodo.2541785',\n",
       "  'conceptrecid': '2541785',\n",
       "  'created': '2019-01-16T15:30:55.782818',\n",
       "  'doi': '10.5281/zenodo.2541786',\n",
       "  'doi_url': 'https://doi.org/10.5281/zenodo.2541786',\n",
       "  'files': [{'checksum': '3a6716c7ed46e837f025537d60f2eb3c',\n",
       "    'filename': 'Centroides_NucleosPoblacion.csv',\n",
       "    'filesize': 84332,\n",
       "    'id': 'b2d91216-2243-4b4e-a9b1-73403e3904b4',\n",
       "    'links': {'download': 'https://zenodo.org/api/files/d28432ab-52cc-4378-b835-7ae279022455/Centroides_NucleosPoblacion.csv',\n",
       "     'self': 'https://zenodo.org/api/deposit/depositions/1435644/files/b2d91216-2243-4b4e-a9b1-73403e3904b4'}}],\n",
       "  'id': 2541786,\n",
       "  'links': {'badge': 'https://zenodo.org/badge/doi/10.5281/zenodo.2541786.svg',\n",
       "   'bucket': 'https://zenodo.org/api/files/2cba549a-24f0-4506-890a-e2f109ea11ab',\n",
       "   'conceptbadge': 'https://zenodo.org/badge/doi/10.5281/zenodo.2541785.svg',\n",
       "   'conceptdoi': 'https://doi.org/10.5281/zenodo.2541785',\n",
       "   'discard': 'https://zenodo.org/api/deposit/depositions/2541786/actions/discard',\n",
       "   'doi': 'https://doi.org/10.5281/zenodo.2541786',\n",
       "   'edit': 'https://zenodo.org/api/deposit/depositions/2541786/actions/edit',\n",
       "   'files': 'https://zenodo.org/api/deposit/depositions/2541786/files',\n",
       "   'html': 'https://zenodo.org/deposit/2541786',\n",
       "   'latest': 'https://zenodo.org/api/records/2541786',\n",
       "   'latest_html': 'https://zenodo.org/record/2541786',\n",
       "   'publish': 'https://zenodo.org/api/deposit/depositions/2541786/actions/publish',\n",
       "   'record': 'https://zenodo.org/api/records/2541786',\n",
       "   'record_html': 'https://zenodo.org/record/2541786',\n",
       "   'self': 'https://zenodo.org/api/deposit/depositions/2541786'},\n",
       "  'metadata': {'access_right': 'open',\n",
       "   'communities': [{'identifier': 'pruebaciclo'}],\n",
       "   'creators': [{'affiliation': 'No', 'name': 'Jose'}],\n",
       "   'description': '<p>Datos de la poblaci&oacute;n en diferentes provincias</p>',\n",
       "   'doi': '10.5281/zenodo.2541786',\n",
       "   'license': 'CC-BY-4.0',\n",
       "   'prereserve_doi': {'doi': '10.5281/zenodo.2541786', 'recid': 2541786},\n",
       "   'publication_date': '2019-01-16',\n",
       "   'title': 'datos_poblacion',\n",
       "   'upload_type': 'dataset'},\n",
       "  'modified': '2019-01-16T15:40:53.957770',\n",
       "  'owner': 58442,\n",
       "  'record_id': 2541786,\n",
       "  'state': 'done',\n",
       "  'submitted': True,\n",
       "  'title': 'datos_poblacion'}]"
      ]
     },
     "execution_count": 5,
     "metadata": {},
     "output_type": "execute_result"
    }
   ],
   "source": [
    "r.json()"
   ]
  },
  {
   "cell_type": "code",
   "execution_count": 7,
   "metadata": {},
   "outputs": [
    {
     "data": {
      "text/plain": [
       "201"
      ]
     },
     "execution_count": 7,
     "metadata": {},
     "output_type": "execute_result"
    }
   ],
   "source": [
    "headers = {\"Content-Type\": \"application/json\"}\n",
    "r = requests.post('https://zenodo.org/api/deposit/depositions',\n",
    "                  params={'access_token': '20a32sBu6WGarmZAwzR9QdtpIBggm14QbwjOE56xt1fuwvG2Jx9bIrJa5Gtv'}, json={},\n",
    "                  headers=headers)\n",
    "r.status_code"
   ]
  },
  {
   "cell_type": "code",
   "execution_count": 8,
   "metadata": {},
   "outputs": [
    {
     "data": {
      "text/plain": [
       "{'conceptrecid': '2542087',\n",
       " 'created': '2019-01-16T18:46:35.263528+00:00',\n",
       " 'files': [],\n",
       " 'id': 2542088,\n",
       " 'links': {'bucket': 'https://zenodo.org/api/files/dd68bc36-d5e7-41cc-9d0c-4512abe974c2',\n",
       "  'discard': 'https://zenodo.org/api/deposit/depositions/2542088/actions/discard',\n",
       "  'edit': 'https://zenodo.org/api/deposit/depositions/2542088/actions/edit',\n",
       "  'files': 'https://zenodo.org/api/deposit/depositions/2542088/files',\n",
       "  'html': 'https://zenodo.org/deposit/2542088',\n",
       "  'latest_draft': 'https://zenodo.org/api/deposit/depositions/2542088',\n",
       "  'latest_draft_html': 'https://zenodo.org/deposit/depositions/2542088',\n",
       "  'publish': 'https://zenodo.org/api/deposit/depositions/2542088/actions/publish',\n",
       "  'self': 'https://zenodo.org/api/deposit/depositions/2542088'},\n",
       " 'metadata': {'prereserve_doi': {'doi': '10.5281/zenodo.2542088',\n",
       "   'recid': 2542088}},\n",
       " 'modified': '2019-01-16T18:46:35.263536+00:00',\n",
       " 'owner': 58442,\n",
       " 'record_id': 2542088,\n",
       " 'state': 'unsubmitted',\n",
       " 'submitted': False,\n",
       " 'title': ''}"
      ]
     },
     "execution_count": 8,
     "metadata": {},
     "output_type": "execute_result"
    }
   ],
   "source": [
    "r.json()"
   ]
  },
  {
   "cell_type": "code",
   "execution_count": 9,
   "metadata": {},
   "outputs": [
    {
     "data": {
      "text/plain": [
       "201"
      ]
     },
     "execution_count": 9,
     "metadata": {},
     "output_type": "execute_result"
    }
   ],
   "source": [
    "deposition_id = r.json()['id']\n",
    "data = {'filename': 'figura.png'}\n",
    "files = {'file': open('figura.png', 'rb')}\n",
    "r = requests.post('https://zenodo.org/api/deposit/depositions/%s/files' % deposition_id,\n",
    "                   params={'access_token': '20a32sBu6WGarmZAwzR9QdtpIBggm14QbwjOE56xt1fuwvG2Jx9bIrJa5Gtv'}, data=data,\n",
    "                   files=files)\n",
    "r.status_code"
   ]
  },
  {
   "cell_type": "code",
   "execution_count": 10,
   "metadata": {},
   "outputs": [
    {
     "data": {
      "text/plain": [
       "{'checksum': 'acf4ba5b523563640db86e1cf499f820',\n",
       " 'filename': 'figura.png',\n",
       " 'filesize': 160745,\n",
       " 'id': 'bd5b8700-e4a8-4227-9caf-49b63821031b',\n",
       " 'links': {'download': 'https://zenodo.org/api/files/dd68bc36-d5e7-41cc-9d0c-4512abe974c2/figura.png',\n",
       "  'self': 'https://zenodo.org/api/deposit/depositions/2542088/files/bd5b8700-e4a8-4227-9caf-49b63821031b'}}"
      ]
     },
     "execution_count": 10,
     "metadata": {},
     "output_type": "execute_result"
    }
   ],
   "source": [
    "r.json()"
   ]
  }
 ],
 "metadata": {
  "kernelspec": {
   "display_name": "Python 3",
   "language": "python",
   "name": "python3"
  },
  "language_info": {
   "codemirror_mode": {
    "name": "ipython",
    "version": 3
   },
   "file_extension": ".py",
   "mimetype": "text/x-python",
   "name": "python",
   "nbconvert_exporter": "python",
   "pygments_lexer": "ipython3",
   "version": "3.6.5"
  }
 },
 "nbformat": 4,
 "nbformat_minor": 2
}
